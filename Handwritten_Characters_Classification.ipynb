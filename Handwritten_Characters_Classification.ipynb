{
  "nbformat": 4,
  "nbformat_minor": 0,
  "metadata": {
    "colab": {
      "name": "Handwritten Characters Classification",
      "provenance": [],
      "collapsed_sections": []
    },
    "kernelspec": {
      "name": "python3",
      "display_name": "Python 3"
    },
    "accelerator": "GPU"
  },
  "cells": [
    {
      "cell_type": "code",
      "metadata": {
        "id": "Xp_JYkRE9BQz"
      },
      "source": [
        "import pandas as pd\n",
        "import numpy as np\n",
        "from sklearn.model_selection import train_test_split\n",
        "import matplotlib.pyplot as plt"
      ],
      "execution_count": 43,
      "outputs": []
    },
    {
      "cell_type": "code",
      "source": [
        "from google.colab import drive\n",
        "drive.mount('/content/drive')"
      ],
      "metadata": {
        "colab": {
          "base_uri": "https://localhost:8080/"
        },
        "id": "JoTanEBnI1es",
        "outputId": "1f412562-1254-4bc2-cf26-5a4016cd8aae"
      },
      "execution_count": 44,
      "outputs": [
        {
          "output_type": "stream",
          "name": "stdout",
          "text": [
            "Drive already mounted at /content/drive; to attempt to forcibly remount, call drive.mount(\"/content/drive\", force_remount=True).\n"
          ]
        }
      ]
    },
    {
      "cell_type": "code",
      "metadata": {
        "id": "OdLYjfn19Jv9"
      },
      "source": [
        "def initialize_parameters(layer_dims):\n",
        "    parameters = {}\n",
        "    L = len(layer_dims)\n",
        "  \n",
        "    for i in range(1, L):\n",
        "        parameters['W' + str(i)] = np.random.randn(layer_dims[i], layer_dims[i-1])*0.01\n",
        "        parameters['b' + str(i)] = np.zeros((1, layer_dims[i])) + 0.01\n",
        "\n",
        "    return parameters"
      ],
      "execution_count": 45,
      "outputs": []
    },
    {
      "cell_type": "code",
      "metadata": {
        "id": "qXcRGRtX9Mro"
      },
      "source": [
        "def sigmoid(X):\n",
        "    return 1/(1 + np.exp(-1*X))"
      ],
      "execution_count": 46,
      "outputs": []
    },
    {
      "cell_type": "code",
      "metadata": {
        "id": "pMqcmART9Sa2"
      },
      "source": [
        "def forward_step(A_prev, W, b):\n",
        "    return sigmoid(np.dot(A_prev, W.T) + b)"
      ],
      "execution_count": 47,
      "outputs": []
    },
    {
      "cell_type": "code",
      "metadata": {
        "id": "x8mIKaKs-Izu"
      },
      "source": [
        "def computation_n(X, y, parameters, eta, num_iters):\n",
        "    hidden_output = []\n",
        "    hidden_error = []\n",
        "    m = X.shape[0]\n",
        "    L = (len(parameters)//2) + 1      # number of layers\n",
        "    \n",
        "    # iterating for given number of iterations\n",
        "    for itr in range(num_iters):\n",
        "        # for each training example\n",
        "        for i in range(m):\n",
        "            # forward propagation for n layers\n",
        "            hidden_output.append(X[i])\n",
        "            A_prev = X[i]\n",
        "            for l in range(1, L):\n",
        "                A_prev = forward_step(A_prev, parameters['W' + str(l)], parameters['b' + str(l)])\n",
        "                hidden_output.append(A_prev)\n",
        "            \n",
        "            # propagating the error backwards\n",
        "            dOutput = hidden_output[-1]*(1 - hidden_output[-1])*(y[i] - hidden_output[-1])\n",
        "            hidden_error.append(dOutput)\n",
        "            k = 0\n",
        "            for l in reversed(range(1, L-1)):\n",
        "                error = hidden_output[l]*(1 - hidden_output[l])*np.dot(hidden_error[k], parameters['W' + str(l+1)])\n",
        "                hidden_error.append(error)\n",
        "                k += 1\n",
        "            \n",
        "            # parameter changes\n",
        "            k = 0\n",
        "            for l in reversed(range(1, L)):\n",
        "                parameters['W' + str(l)] += eta*hidden_error[k].reshape(-1, 1)*hidden_output[l-1]\n",
        "                parameters['b' + str(l)] += eta*hidden_error[k]\n",
        "                k += 1\n",
        "            \n",
        "            hidden_output.clear()\n",
        "            hidden_error.clear()\n",
        "    \n",
        "    return parameters"
      ],
      "execution_count": 48,
      "outputs": []
    },
    {
      "cell_type": "code",
      "metadata": {
        "id": "j_fSvhJfF3F7"
      },
      "source": [
        "def train(X, y, parameters, alpha, num_iters, batch=True):\n",
        "    parameters = computation_n(X, y, parameters, alpha, num_iters)\n",
        "    return parameters"
      ],
      "execution_count": 49,
      "outputs": []
    },
    {
      "cell_type": "code",
      "metadata": {
        "id": "J3GAQPOwF8Ke"
      },
      "source": [
        "def test(X, y_test, parameters):\n",
        "    y_pred = []\n",
        "    L = (len(parameters)//2) + 1\n",
        "    counter = 0\n",
        "\n",
        "    for i in range(X.shape[0]):\n",
        "        A_prev = X[i]\n",
        "        for l in range(1, L):\n",
        "            A_prev = forward_step(A_prev, parameters['W' + str(l)], parameters['b' + str(l)])\n",
        "        y_pred.append(A_prev)\n",
        "\n",
        "\n",
        "    y_pred = np.asarray(y_pred)\n",
        "    y_pred[y_pred < 0.5] = 0\n",
        "    y_pred[y_pred >= 0.5] = 1\n",
        "\n",
        "    accuracy = np.mean(np.asarray(y_pred) == y_test)\n",
        "    print(\"Accuracy : {} %\".format(accuracy*100))"
      ],
      "execution_count": 50,
      "outputs": []
    },
    {
      "cell_type": "code",
      "metadata": {
        "colab": {
          "base_uri": "https://localhost:8080/",
          "height": 499
        },
        "id": "6UMN1xoFHV6V",
        "outputId": "498f14f9-be6c-4e65-e89f-c675267b2353"
      },
      "source": [
        "## LOADING TRAINING DATA \n",
        "data = pd.read_csv('/content/drive/MyDrive/emnist-letters-test.csv').to_numpy()\n",
        "y = data[:, 0]\n",
        "X = data[:, 1:]\n",
        "\n",
        "X_train, X_test, y_train, y_test = train_test_split(X, y, test_size=0.33, random_state=1)\n",
        "\n",
        "## PRINTING IMAGES FROM THE MNIST DATASET\n",
        "print(\"Sample of images from the MNIST Dataset : \")\n",
        "plt.figure(figsize=(8, 8))\n",
        "for i in range(16):\n",
        "    plt.subplot(4, 4, i+1)\n",
        "    plt.axis('off')\n",
        "    r = np.random.randint(X_train.shape[0])   ## PICK A RANDON IMAGE TO SHOW\n",
        "    plt.title('True Label: '+ str(y_train[r])) ## PRINT LABEL\n",
        "    plt.imshow(X_train[r].reshape(28, 28).T)     ## PRINT IMAGE\n",
        "plt.show()"
      ],
      "execution_count": 51,
      "outputs": [
        {
          "output_type": "stream",
          "name": "stdout",
          "text": [
            "Sample of images from the MNIST Dataset : \n"
          ]
        },
        {
          "output_type": "display_data",
          "data": {
            "image/png": "[encoded data removed]",
            "text/plain": [
              "<Figure size 576x576 with 16 Axes>"
            ]
          },
          "metadata": {
            "needs_background": "light"
          }
        }
      ]
    },
    {
      "cell_type": "code",
      "metadata": {
        "colab": {
          "base_uri": "https://localhost:8080/"
        },
        "id": "GAzlgSO3Ncw7",
        "outputId": "58c68205-a829-4b93-e1ea-cbe390b59b30"
      },
      "source": [
        "## NORMALIZING THE PIXEL VALUES FOR TRAINING DATA\n",
        "X_train = X_train / 255\n",
        "\n",
        "## CONVERTING TARGET VALUE TO ONE-HOT ENCODED FORM\n",
        "X_train = np.array(X_train)\n",
        "b = np.zeros((y_train.size, 27))\n",
        "b[np.arange(y_train.size), y_train] = 1\n",
        "y_train = np.array(b)\n",
        "\n",
        "print(\"y_train shape (after one-hot encoding) : {}\".format(y_train.shape))"
      ],
      "execution_count": 52,
      "outputs": [
        {
          "output_type": "stream",
          "name": "stdout",
          "text": [
            "y_train shape (after one-hot encoding) : (9915, 27)\n"
          ]
        }
      ]
    },
    {
      "cell_type": "code",
      "metadata": {
        "colab": {
          "base_uri": "https://localhost:8080/"
        },
        "id": "1Auq4NjGNdeB",
        "outputId": "6f2cfd09-4d3c-4fe1-b727-524d04101412"
      },
      "source": [
        "## NORMALIZING THE PIXEL VALUES FOR TESTING DATA\n",
        "X_test = X_test / 255\n",
        "\n",
        "## CONVERTING TARGET VALUE TO ONE-HOT ENCODED FORM\n",
        "X_test = np.array(X_test)\n",
        "b1 = np.zeros((y_test.size, 27))\n",
        "b1[np.arange(y_test.size), y_test] = 1\n",
        "y_test = np.array(b1)\n",
        "\n",
        "print(\"y_test shape (after one-hot encoding) : {}\".format(y_test.shape))"
      ],
      "execution_count": 53,
      "outputs": [
        {
          "output_type": "stream",
          "name": "stdout",
          "text": [
            "y_test shape (after one-hot encoding) : (4884, 27)\n"
          ]
        }
      ]
    },
    {
      "cell_type": "code",
      "metadata": {
        "colab": {
          "base_uri": "https://localhost:8080/"
        },
        "id": "FJ_HwY08HaqN",
        "outputId": "98ee5c01-052c-4da8-fcb4-eb6ae896d6c0"
      },
      "source": [
        "parameters = initialize_parameters([784, 50, 50, 27])\n",
        "print(\"Length of parameters dictionary : {}\".format(len(parameters)))"
      ],
      "execution_count": 54,
      "outputs": [
        {
          "output_type": "stream",
          "name": "stdout",
          "text": [
            "Length of parameters dictionary : 6\n"
          ]
        }
      ]
    },
    {
      "cell_type": "code",
      "metadata": {
        "colab": {
          "base_uri": "https://localhost:8080/"
        },
        "id": "HqF6jkZoHeH4",
        "outputId": "4d068154-26b7-40ec-edd1-7e87f0a0f3ee"
      },
      "source": [
        "print(\"Training model...\")\n",
        "parameters = train(X_train, y_train, parameters, 0.01, 20)"
      ],
      "execution_count": 55,
      "outputs": [
        {
          "output_type": "stream",
          "name": "stdout",
          "text": [
            "Training model...\n"
          ]
        }
      ]
    },
    {
      "cell_type": "code",
      "metadata": {
        "colab": {
          "base_uri": "https://localhost:8080/"
        },
        "id": "Prdgg5fxHgYY",
        "outputId": "260d276b-9cd1-4e13-8b4d-e3c1de2a36ee"
      },
      "source": [
        "print(\"Testing model...\")\n",
        "test(X_test, y_test, parameters)"
      ],
      "execution_count": 56,
      "outputs": [
        {
          "output_type": "stream",
          "name": "stdout",
          "text": [
            "Testing model...\n",
            "Accuracy : 96.29629629629629 %\n"
          ]
        }
      ]
    }
  ]
}